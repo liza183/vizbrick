{
 "cells": [
  {
   "cell_type": "markdown",
   "id": "b54ebf52",
   "metadata": {},
   "source": [
    "## Indexing Brick Ontology"
   ]
  },
  {
   "cell_type": "code",
   "execution_count": 1,
   "id": "4e48dcfa",
   "metadata": {},
   "outputs": [],
   "source": [
    "from sklearn.feature_extraction.text import TfidfVectorizer\n",
    "from sklearn.feature_extraction.text import CountVectorizer\n",
    "import pandas as pd\n",
    "pd.set_option(\"max_rows\", 600)\n",
    "from pathlib import Path  \n",
    "import glob\n",
    "from sklearn.metrics.pairwise import cosine_similarity\n",
    "import numpy"
   ]
  },
  {
   "cell_type": "code",
   "execution_count": 2,
   "id": "cdffd382",
   "metadata": {},
   "outputs": [
    {
     "data": {
      "text/plain": [
       "<Graph identifier=Nf556b7670c5f4643ba779ce06b5136d1 (<class 'rdflib.graph.Graph'>)>"
      ]
     },
     "execution_count": 2,
     "metadata": {},
     "output_type": "execute_result"
    }
   ],
   "source": [
    "from rdflib import Graph\n",
    "from flashtext import KeywordProcessor\n",
    "import re\n",
    "\n",
    "# Loadinb Brick Schema\n",
    "g = Graph()\n",
    "g.parse(\"/Users/slz/git_repo/vizbrick/Brick.ttl\", format=\"turtle\")"
   ]
  },
  {
   "cell_type": "code",
   "execution_count": 11,
   "id": "a813354a",
   "metadata": {},
   "outputs": [
    {
     "name": "stdout",
     "output_type": "stream",
     "text": [
      "https://brickschema.org/schema/Brick#isFedBy\n",
      "https://brickschema.org/schema/Brick#hasTag\n",
      "https://brickschema.org/schema/Brick#isMeasuredBy\n",
      "https://brickschema.org/schema/Brick#hasLocation\n",
      "https://brickschema.org/schema/Brick#isTagOf\n",
      "https://brickschema.org/schema/Brick#value\n",
      "https://brickschema.org/schema/Brick#hasUnit\n",
      "https://brickschema.org/schema/Brick#isRegulatedBy\n",
      "https://brickschema.org/schema/Brick#isRegulatedBy\n",
      "https://brickschema.org/schema/Brick#hasAssociatedTag\n",
      "https://brickschema.org/schema/Brick#isLocationOf\n",
      "https://brickschema.org/schema/Brick#hasOutputSubstance\n",
      "https://brickschema.org/schema/Brick#hasAssociatedTag\n",
      "https://brickschema.org/schema/Brick#isTagOf\n",
      "https://brickschema.org/schema/Brick#isLocationOf\n",
      "https://brickschema.org/schema/Brick#hasOutputSubstance\n",
      "https://brickschema.org/schema/Brick#isPartOf\n",
      "https://brickschema.org/schema/Brick#timeseries\n",
      "https://brickschema.org/schema/Brick#latitutde\n",
      "https://brickschema.org/schema/Brick#isAssociatedWith\n",
      "https://brickschema.org/schema/Brick#regulates\n",
      "https://brickschema.org/schema/Brick#isPointOf\n",
      "https://brickschema.org/schema/Brick#hasQUDTReference\n",
      "https://brickschema.org/schema/Brick#hasTimeseriesId\n",
      "https://brickschema.org/schema/Brick#hasPoint\n",
      "https://brickschema.org/schema/Brick#hasInputSubstance\n",
      "https://brickschema.org/schema/Brick#timeseries\n",
      "https://brickschema.org/schema/Brick#hasAddress\n",
      "https://brickschema.org/schema/Brick#feeds\n",
      "https://brickschema.org/schema/Brick#storedAt\n",
      "https://brickschema.org/schema/Brick#regulates\n",
      "https://brickschema.org/schema/Brick#measures\n",
      "https://brickschema.org/schema/Brick#isPointOf\n",
      "https://brickschema.org/schema/Brick#isMeasuredBy\n",
      "https://brickschema.org/schema/Brick#hasQUDTReference\n",
      "https://brickschema.org/schema/Brick#hasTimeseriesId\n",
      "https://brickschema.org/schema/Brick#hasPoint\n",
      "https://brickschema.org/schema/Brick#hasInputSubstance\n",
      "https://brickschema.org/schema/Brick#storedAt\n",
      "https://brickschema.org/schema/Brick#isPartOf\n",
      "https://brickschema.org/schema/Brick#measures\n",
      "https://brickschema.org/schema/Brick#hasPart\n",
      "https://brickschema.org/schema/Brick#feedsAir\n",
      "https://brickschema.org/schema/Brick#isAssociatedWith\n",
      "https://brickschema.org/schema/Brick#isFedBy\n",
      "https://brickschema.org/schema/Brick#hasTag\n",
      "https://brickschema.org/schema/Brick#hasLocation\n",
      "https://brickschema.org/schema/Brick#longitude\n",
      "https://brickschema.org/schema/Brick#hasPart\n",
      "https://brickschema.org/schema/Brick#feeds\n",
      "https://brickschema.org/schema/Brick#hasUnit\n",
      "*done\n"
     ]
    }
   ],
   "source": [
    "def get_relationships():\n",
    "    rel_list = []\n",
    "    for triple in g:\n",
    "        if \"brick\" in triple[0] and \"22-rdf-syntax-ns#type\" in triple[1] and (\"AsymmetricProperty\" in triple[2] or \"ObjectProperty\" in triple[2]):\n",
    "            print(triple[0])\n",
    "    print(\"*done\")"
   ]
  },
  {
   "cell_type": "code",
   "execution_count": null,
   "id": "7757831a",
   "metadata": {},
   "outputs": [],
   "source": [
    "def vectorize(list_of_docs):\n",
    "    vectorizer = TfidfVectorizer()\n",
    "    vectors = vectorizer.fit_transform(list_of_docs)\n",
    "    feature_names = vectorizer.get_feature_names_out()\n",
    "    dense = vectors.todense()\n",
    "    denselist = dense.tolist()\n",
    "    df = pd.DataFrame(denselist, columns=feature_names)\n",
    "    return df, vectorizer"
   ]
  },
  {
   "cell_type": "code",
   "execution_count": null,
   "id": "b21999e0",
   "metadata": {},
   "outputs": [],
   "source": [
    "def indexing_brick():\n",
    "    definitions = {}\n",
    "    \n",
    "    for triple in g:\n",
    "        if \"definition\" in triple[1]:\n",
    "            class_name = triple[0].replace(\"https://brickschema.org/schema/Brick#\",\"\")\n",
    "            definition = triple[2]\n",
    "            class_name = class_name.replace(\"_\",\" \")\n",
    "            definitions[class_name] = definition+\" \"+ class_name\n",
    "        \n",
    "        elif \"#Location\" in triple[2]:\n",
    "            class_name = triple[0].replace(\"https://brickschema.org/schema/Brick#\",\"\")\n",
    "            definition = class_name\n",
    "            class_name = class_name.replace(\"_\",\" \")\n",
    "            definitions[class_name] = definition +\" \" + class_name\n",
    "    \n",
    "    for key in definitions.keys():\n",
    "        if str(definitions[key]).startswith(\"See\"):\n",
    "            definitions[key] = definitions[definitions[key].split(\" \")[1].replace(\"_\",\" \")]\n",
    "            #print(\"->\",definitions[key])\n",
    "    \n",
    "    #print(definitions)\n",
    "    list_of_classname = []\n",
    "    list_of_definitions = []\n",
    "    \n",
    "    for key in definitions.keys():\n",
    "        list_of_classname.append(key)\n",
    "        list_of_definitions.append(definitions[key])\n",
    "\n",
    "    print(len(list_of_classname), len(list_of_definitions))\n",
    "    \n",
    "    df_class, vectorizer_class = vectorize(list_of_classname)\n",
    "    df_def, vectorizer_def = vectorize(list_of_definitions)\n",
    "\n",
    "    return df_class, df_def, vectorizer_class, vectorizer_def, list_of_classname, list_of_definitions\n",
    "        \n",
    "df_class, df_def, vectorizer_class, vectorizer_def, list_of_classname, list_of_definitions = indexing_brick()\n",
    "print(\"* Done\")\n",
    "\n",
    "    "
   ]
  },
  {
   "cell_type": "code",
   "execution_count": null,
   "id": "2ee6a047",
   "metadata": {},
   "outputs": [],
   "source": [
    "list_of_definitions[list_of_classname.index(\"HVAC System\")]"
   ]
  },
  {
   "cell_type": "markdown",
   "id": "982f48d9",
   "metadata": {},
   "source": [
    "## Keyword Search Test for Suggestions"
   ]
  },
  {
   "cell_type": "code",
   "execution_count": null,
   "id": "a184d5d2",
   "metadata": {},
   "outputs": [],
   "source": [
    "def search(query, hint=\"\", topk=5):\n",
    "    return_list = []\n",
    "    '''\n",
    "    parsed_query = query.split(\" \")\n",
    "    for classname in list_of_classname:\n",
    "        cnt = 0\n",
    "        for term in parsed_query:\n",
    "            if term in classname:\n",
    "                cnt+=1\n",
    "        if cnt==len(parsed_query):\n",
    "            return_list.append((classname,cnt))\n",
    "    '''\n",
    "    \n",
    "    \n",
    "    search_result = {}\n",
    "    idx = 0\n",
    "    \n",
    "    query_vec = vectorizer_def.transform([query])\n",
    "    \n",
    "    for index, row in df_def.iterrows():\n",
    "        class_name = list_of_classname[idx]\n",
    "        similarity = cosine_similarity(row.values.reshape(1,len(row.values)), query_vec.toarray())[0][0]\n",
    "        search_result[class_name]=similarity\n",
    "        idx+=1\n",
    "\n",
    "    idx = 0\n",
    "    query_vec = vectorizer_class.transform([query])\n",
    "    \n",
    "    for index, row in df_class.iterrows():\n",
    "        class_name = list_of_classname[idx]\n",
    "        similarity = cosine_similarity(row.values.reshape(1,len(row.values)), query_vec.toarray())[0][0]\n",
    "        search_result[class_name]+=similarity\n",
    "        idx+=1\n",
    "\n",
    "    search_result = dict(sorted(search_result.items(), key=lambda item: item[1], reverse=True))\n",
    "    \n",
    "    rank=1\n",
    "    for key in search_result.keys():\n",
    "        return_list.append((key,search_result[key]))\n",
    "        if rank==topk: break\n",
    "        rank+=1\n",
    "    return return_list"
   ]
  },
  {
   "cell_type": "code",
   "execution_count": null,
   "id": "ae692075",
   "metadata": {},
   "outputs": [],
   "source": [
    "query = \"]'DHW_ClothesWasherColdFlow The cumulative volume of cold water flowing into the clothes washer starting at midnigh\"\n",
    "query+=\"water usage sensor\"\n",
    "search(query, topk=10)"
   ]
  },
  {
   "cell_type": "code",
   "execution_count": null,
   "id": "4c655774",
   "metadata": {},
   "outputs": [],
   "source": [
    "query = \"DHW Clothes Washer Cold Flow The cumulative volume of cold water flowing into the clothes washer starting at midnight\"\n",
    "search(query, topk=20)"
   ]
  },
  {
   "cell_type": "markdown",
   "id": "bed6f3ab",
   "metadata": {},
   "source": [
    "## Loading an input metadata table, cleaning metadata table"
   ]
  },
  {
   "cell_type": "code",
   "execution_count": null,
   "id": "0158a86d",
   "metadata": {},
   "outputs": [],
   "source": [
    "dataset = pd.read_csv(\"NIST_meta.csv\").fillna(\"\")"
   ]
  },
  {
   "cell_type": "code",
   "execution_count": null,
   "id": "0ea5385d",
   "metadata": {},
   "outputs": [],
   "source": [
    "dataset"
   ]
  },
  {
   "cell_type": "code",
   "execution_count": null,
   "id": "70cb6c25",
   "metadata": {},
   "outputs": [],
   "source": [
    "Location_cols = [\"Measurement Location\"]\n",
    "Description_cols = [\"Subsystem\",\"Measured Parameter\",\"Description\",\"Units\"]\n",
    "Data_Label_cols = [\"Data Label\"]"
   ]
  },
  {
   "cell_type": "code",
   "execution_count": null,
   "id": "7af425a8",
   "metadata": {},
   "outputs": [],
   "source": [
    "dataset.columns"
   ]
  },
  {
   "cell_type": "code",
   "execution_count": null,
   "id": "4e5c5108",
   "metadata": {},
   "outputs": [],
   "source": [
    "def get_a_merged_df(df, cols, colname):\n",
    "    tmp = dataset[cols[0]]\n",
    "    for i in range(1,len(cols)):\n",
    "        tmp+=\" \"+ dataset[cols[i]]\n",
    "    desc_df = pd.DataFrame(tmp)\n",
    "    desc_df.columns =[colname]\n",
    "    return desc_df"
   ]
  },
  {
   "cell_type": "code",
   "execution_count": null,
   "id": "0e55dd69",
   "metadata": {},
   "outputs": [],
   "source": [
    "df_desc = get_a_merged_df(dataset, Description_cols, \"Description\")"
   ]
  },
  {
   "cell_type": "code",
   "execution_count": null,
   "id": "0b08015d",
   "metadata": {},
   "outputs": [],
   "source": [
    "df_data_label = get_a_merged_df(dataset, Data_Label_cols, \"Data Label\")"
   ]
  },
  {
   "cell_type": "code",
   "execution_count": null,
   "id": "ccff8aa0",
   "metadata": {},
   "outputs": [],
   "source": [
    "df_location = get_a_merged_df(dataset, Location_cols, \"Location\")"
   ]
  },
  {
   "cell_type": "code",
   "execution_count": null,
   "id": "c8ab5625",
   "metadata": {},
   "outputs": [],
   "source": [
    "df_desc.values[0]"
   ]
  },
  {
   "cell_type": "code",
   "execution_count": null,
   "id": "d22d9312",
   "metadata": {},
   "outputs": [],
   "source": [
    "metadata = pd.concat([df_data_label, df_location, df_desc], axis=1)"
   ]
  },
  {
   "cell_type": "code",
   "execution_count": null,
   "id": "92b53edc",
   "metadata": {},
   "outputs": [],
   "source": [
    "metadata.to_csv('NIST_metadata_cleaned.csv');"
   ]
  },
  {
   "cell_type": "code",
   "execution_count": null,
   "id": "12dc39fc",
   "metadata": {},
   "outputs": [],
   "source": [
    "metadata['Description'].values[0]"
   ]
  },
  {
   "cell_type": "code",
   "execution_count": null,
   "id": "b18a9d2f",
   "metadata": {},
   "outputs": [],
   "source": [
    "list_of_rows = []\n",
    "for index, row in metadata.iterrows():\n",
    "    list_of_rows.append((row[0],row[1],row[2]))"
   ]
  },
  {
   "cell_type": "markdown",
   "id": "e9914ebf",
   "metadata": {},
   "source": [
    "## Analyzing locations"
   ]
  },
  {
   "cell_type": "code",
   "execution_count": null,
   "id": "8b4ddb13",
   "metadata": {},
   "outputs": [],
   "source": [
    "locations = metadata['Location']\n",
    "locations = list(set(locations.tolist()))"
   ]
  },
  {
   "cell_type": "code",
   "execution_count": null,
   "id": "45d1857c",
   "metadata": {
    "scrolled": true
   },
   "outputs": [],
   "source": [
    "locations"
   ]
  },
  {
   "cell_type": "code",
   "execution_count": null,
   "id": "bb7bbd2b",
   "metadata": {},
   "outputs": [],
   "source": [
    "list_of_locations = []\n",
    "for triple in g:\n",
    "    if \"#Location\" in triple[2] and \"https://brickschema.org/schema/Brick#hasAssociatedTag\" in triple[1]:\n",
    "        list_of_locations.append(triple[0].replace(\"https://brickschema.org/schema/Brick#\",\"\"))\n",
    "print(list_of_locations)"
   ]
  },
  {
   "cell_type": "code",
   "execution_count": null,
   "id": "ba782c67",
   "metadata": {},
   "outputs": [],
   "source": [
    "def search_locations(query, topk=1):\n",
    "    if \"room\" in query.lower():\n",
    "        query+=\" room\"\n",
    "    query_vec = vectorizer_class.transform([query])\n",
    "    search_result = {}\n",
    "    idx = 0\n",
    "    for index, row in df_class.iterrows():\n",
    "        class_name = list_of_classname[idx]\n",
    "        similarity = cosine_similarity(row.values.reshape(1,len(row.values)), query_vec.toarray())[0][0]\n",
    "        search_result[class_name]=similarity\n",
    "        idx+=1\n",
    "\n",
    "    search_result = dict(sorted(search_result.items(), key=lambda item: item[1], reverse=True))\n",
    "    return_list = []\n",
    "    rank=1\n",
    "    for key in search_result.keys():\n",
    "        if key in list_of_locations:\n",
    "            return_list.append((key,search_result[key]))\n",
    "            if rank==topk: break\n",
    "            rank+=1\n",
    "    if return_list[0][1]==0.0:\n",
    "        return_list= [('Location', 1,0)]\n",
    "    return return_list"
   ]
  },
  {
   "cell_type": "code",
   "execution_count": null,
   "id": "1c1d442e",
   "metadata": {},
   "outputs": [],
   "source": [
    "## Suggesting Brick Location Classes based on Location Names\n",
    "for location in locations:\n",
    "    print(location, search_locations(location))"
   ]
  },
  {
   "cell_type": "markdown",
   "id": "29e0c8de",
   "metadata": {},
   "source": [
    "## Analyzing Column Names"
   ]
  },
  {
   "cell_type": "code",
   "execution_count": null,
   "id": "4ec8c884",
   "metadata": {},
   "outputs": [],
   "source": [
    "data_labels = metadata['Data Label']\n",
    "label_desc = metadata['Description']"
   ]
  },
  {
   "cell_type": "code",
   "execution_count": null,
   "id": "a8cd7dc1",
   "metadata": {},
   "outputs": [],
   "source": [
    "data_labels"
   ]
  },
  {
   "cell_type": "code",
   "execution_count": null,
   "id": "fdd17fac",
   "metadata": {},
   "outputs": [],
   "source": [
    "import re\n",
    "def parse_colname(term):\n",
    "    parsed = re.sub('[^a-zA-Z0-9\\n\\.]', ' ', term)\n",
    "    return parsed\n",
    "\n",
    "def parse_label(label):\n",
    "    terms = []\n",
    "    parsed = parse_colname(label.replace(\"_\",\"\"))\n",
    "    parsed =re.sub(r\"(?<=\\w)([A-Z])\", r\" \\1\", parsed)\n",
    "    tmp=\"\"\n",
    "    for item in parsed.split(\" \"):\n",
    "        if len(item)>1:\n",
    "            terms.append(item)\n",
    "            if tmp!=\"\":\n",
    "                terms.append(tmp)\n",
    "                tmp=\"\"\n",
    "        else:\n",
    "            tmp +=item\n",
    "    if tmp!=\"\":\n",
    "        terms.append(tmp)\n",
    "        tmp=\"\"\n",
    "    return ' '.join(terms)"
   ]
  },
  {
   "cell_type": "code",
   "execution_count": null,
   "id": "58d4293e",
   "metadata": {},
   "outputs": [],
   "source": [
    "def frequency_parse(data_labels):\n",
    "    freq = {}\n",
    "    terms = []\n",
    "    for label in data_labels:\n",
    "        parsed = parse_colname(label)\n",
    "        parsed =re.sub(r\"(?<=\\w)([A-Z])\", r\" \\1\", parsed)\n",
    "        tmp=\"\"\n",
    "        for item in parsed.split(\" \"):\n",
    "            if len(item)>1:\n",
    "                terms.append(item)\n",
    "                if tmp!=\"\":\n",
    "                    terms.append(tmp)\n",
    "                    tmp=\"\"\n",
    "            else:\n",
    "                tmp +=item\n",
    "        if tmp!=\"\":\n",
    "            terms.append(tmp)\n",
    "            tmp=\"\"\n",
    "    \n",
    "    for label in terms:\n",
    "        try:\n",
    "            freq[label]+=1\n",
    "        except:\n",
    "            freq[label]=1\n",
    "    return freq"
   ]
  },
  {
   "cell_type": "code",
   "execution_count": null,
   "id": "6ab10cc6",
   "metadata": {},
   "outputs": [],
   "source": [
    "freq = frequency_parse(data_labels)"
   ]
  },
  {
   "cell_type": "code",
   "execution_count": null,
   "id": "54beae3a",
   "metadata": {},
   "outputs": [],
   "source": [
    "search(\"HVAC System\")"
   ]
  },
  {
   "cell_type": "code",
   "execution_count": null,
   "id": "4f3a33b4",
   "metadata": {},
   "outputs": [],
   "source": [
    "freq_result = dict(sorted(freq.items(), key=lambda item: item[1], reverse=True))\n",
    "rank = 1\n",
    "for key in freq_result.keys():\n",
    "    tmp = search(key)\n",
    "    if tmp[0][1]==0:\n",
    "        print(key, \"not found\")\n",
    "    else:\n",
    "        print(key, freq_result[key], tmp)"
   ]
  },
  {
   "cell_type": "code",
   "execution_count": null,
   "id": "7b0f3ad1",
   "metadata": {},
   "outputs": [],
   "source": [
    "for i in range(0,len(data_labels)):\n",
    "    query = parse_label(data_labels[i])+\" \"+label_desc[i]\n",
    "    print(data_labels[i], search(query,topk=3))"
   ]
  },
  {
   "cell_type": "code",
   "execution_count": null,
   "id": "49c8cf2a",
   "metadata": {},
   "outputs": [],
   "source": []
  }
 ],
 "metadata": {
  "kernelspec": {
   "display_name": "Python 3 (ipykernel)",
   "language": "python",
   "name": "python3"
  },
  "language_info": {
   "codemirror_mode": {
    "name": "ipython",
    "version": 3
   },
   "file_extension": ".py",
   "mimetype": "text/x-python",
   "name": "python",
   "nbconvert_exporter": "python",
   "pygments_lexer": "ipython3",
   "version": "3.9.7"
  }
 },
 "nbformat": 4,
 "nbformat_minor": 5
}
